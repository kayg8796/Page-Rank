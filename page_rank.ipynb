{
 "cells": [
  {
   "cell_type": "code",
   "execution_count": null,
   "metadata": {},
   "outputs": [],
   "source": [
    "graph_out = { }\n",
    "with open('web-Google.txt','r') as file:\n",
    "    for line in file:\n",
    "        if line[0]=='#':\n",
    "            continue\n",
    "        val = line.split()\n",
    "        k=int(val[0])\n",
    "        v=int(val[1])\n",
    "        if k not in graph_out.keys():\n",
    "            graph_out.update({k:[v]})\n",
    "        else:\n",
    "            graph_out[k].append(v)\n",
    "        if v not in graph_out.keys():\n",
    "            graph_out.update({v:[]})          "
   ]
  },
  {
   "cell_type": "code",
   "execution_count": null,
   "metadata": {},
   "outputs": [],
   "source": [
    "graph_in = { }\n",
    "with open('web-Google.txt','r') as file:\n",
    "    for line in file:\n",
    "        if line[0]=='#':\n",
    "            continue\n",
    "        val = line.split()\n",
    "        k=int(val[1])\n",
    "        v=int(val[0])\n",
    "        if k not in graph_in.keys():\n",
    "            graph_in.update({k:[v]})\n",
    "        else:\n",
    "            graph_in[k].append(v)\n",
    "        if v not in graph_in.keys():\n",
    "            graph_in.update({v:[]})          "
   ]
  },
  {
   "cell_type": "code",
   "execution_count": null,
   "metadata": {},
   "outputs": [],
   "source": [
    "#initializing page ranks\n",
    "import copy\n",
    "import time\n",
    "def init_rank():\n",
    "    global graph_in\n",
    "    p={}\n",
    "    for key in graph_in.keys():\n",
    "        p.update({key:1})\n",
    "    return p\n",
    "#note that node ids are not continuous"
   ]
  },
  {
   "cell_type": "code",
   "execution_count": null,
   "metadata": {},
   "outputs": [],
   "source": [
    "def rank(pp,n):   #remember that p is a mutable object\n",
    "    global graph_in\n",
    "    global graph_out\n",
    "    p=copy.deepcopy(pp)\n",
    "    for i in range(n):\n",
    "        p_old = p\n",
    "        p = {}\n",
    "        for keyj in graph_in.keys():\n",
    "            summ=0\n",
    "            for keyi in graph_in[keyj]:\n",
    "                summ+=(1/len(graph_out[keyi])) * p_old[keyi]\n",
    "            p.update({keyj:summ})\n",
    "    return p"
   ]
  },
  {
   "cell_type": "code",
   "execution_count": null,
   "metadata": {},
   "outputs": [],
   "source": [
    "def pranking(n):   \n",
    "    pp=init_rank()\n",
    "    page_rank = rank(pp,n)  #running for n iterations\n",
    "    pr_sorted = sorted(page_rank.items(),key=lambda x:x[1],reverse=True)\n",
    "    print('Here are the top 20 ranked pages')\n",
    "    print('(Node id, Page rank)')\n",
    "    for v in pr_sorted[:20]:\n",
    "        print(v)\n",
    "    print('\\nHere are the bottom 20  ranked pages')\n",
    "    print('(Node id, Page rank)')\n",
    "    for v1 in pr_sorted[-20:]:\n",
    "        print(v1)#print here\n",
    "    return pr_sorted"
   ]
  },
  {
   "cell_type": "code",
   "execution_count": null,
   "metadata": {},
   "outputs": [],
   "source": [
    "pr=pranking(10)"
   ]
  },
  {
   "cell_type": "code",
   "execution_count": null,
   "metadata": {},
   "outputs": [],
   "source": [
    "def rank2(pp,n,a):   #remember that p is a mutable object, question 2 starts here\n",
    "    global graph_in\n",
    "    global graph_out\n",
    "    p=copy.deepcopy(pp)\n",
    "    for i in range(n):\n",
    "        p_old = p\n",
    "        p = {}\n",
    "        for keyj in graph_in.keys():\n",
    "            summ=0\n",
    "            for keyi in graph_in[keyj]:\n",
    "                summ+=(1/len(graph_out[keyi])) * p_old[keyi]\n",
    "            p.update({keyj:a*summ+(1-a)})\n",
    "    return p"
   ]
  },
  {
   "cell_type": "code",
   "execution_count": null,
   "metadata": {},
   "outputs": [],
   "source": [
    "def pranking2(n,a):\n",
    "    pp = init_rank()\n",
    "    page_rank2=rank2(pp,n,a)\n",
    "    pr_sorted2 = sorted(page_rank2.items(),key=lambda x:x[1],reverse=True)\n",
    "    print('Here are the top 20 ranked pages')\n",
    "    print('(Node id, Page rank)')\n",
    "    for v in pr_sorted2[:20]:\n",
    "        print(v)\n",
    "    print('\\nHere are the bottom 20  ranked pages')\n",
    "    print('(Node id, Page rank)')\n",
    "    for v1 in pr_sorted2[-20:]:\n",
    "        print(v1)#print here\n",
    "    return pr_sorted2"
   ]
  },
  {
   "cell_type": "code",
   "execution_count": null,
   "metadata": {},
   "outputs": [],
   "source": [
    "p_rank02_10 = pranking2(10,0.2)"
   ]
  },
  {
   "cell_type": "code",
   "execution_count": null,
   "metadata": {},
   "outputs": [],
   "source": [
    "p_rank85_10 = pranking2(10,0.85)"
   ]
  },
  {
   "cell_type": "code",
   "execution_count": null,
   "metadata": {},
   "outputs": [],
   "source": [
    "import matplotlib.pyplot as plt\n",
    "import math\n",
    "from matplotlib.ticker import FixedLocator as fxd\n",
    "def plotxy(sorted_list,s):\n",
    "    x2=[x[1] for x in sorted_list]\n",
    "    count = [0 for i in range(200)]\n",
    "    stepy=[0]\n",
    "    step = (max(x2) - min(x2))/200\n",
    "    x = [step/2]\n",
    "    for val in range(199):\n",
    "        x.append(x[-1]+step)\n",
    "        stepy.append(stepy[-1]+step)\n",
    "    stepy.append(stepy[-1]+step)\n",
    "    for i in range(200):\n",
    "        for val in x2:\n",
    "            if stepy[i]<val and val<stepy[i+1]:\n",
    "                count[i]+=1\n",
    "    xvalues = []\n",
    "    yvalues = []\n",
    "    min_ticks=[]\n",
    "    for i in range(200):\n",
    "        if count[i]>0:\n",
    "            xvalues.append(math.log10(x[i]))\n",
    "            yvalues.append(math.log10(count[i]))\n",
    "            min_ticks.append(math.log10(stepy[i+1]))\n",
    "    fig, ax = plt.subplots()\n",
    "    ax.scatter(xvalues,yvalues,marker='+')\n",
    "    minor_locator = fxd(min_ticks)\n",
    "    ax.xaxis.set_minor_locator(minor_locator)\n",
    "    ax.set_ylim(bottom=0)      \n",
    "    #plt.scatter(xvalues,yvalues)\n",
    "    plt.xlabel('page rank(log10)')\n",
    "    plt.ylabel('counts(log10)')\n",
    "    plt.title(s)\n",
    "    plt.show()\n",
    "    #make plots with zero dissapear since log is not possible"
   ]
  },
  {
   "cell_type": "code",
   "execution_count": null,
   "metadata": {},
   "outputs": [],
   "source": [
    "plotxy(p_rank02_10,'Page rank with a=0.2 and 10 iterations')"
   ]
  },
  {
   "cell_type": "code",
   "execution_count": null,
   "metadata": {},
   "outputs": [],
   "source": [
    "plotxy(p_rank85_10,'Page rank with a=0.85 and 10 iterations')"
   ]
  },
  {
   "cell_type": "markdown",
   "metadata": {},
   "source": [
    "Observations from the graphs above : There are more low ranked pages than there are high ranked pages"
   ]
  },
  {
   "cell_type": "markdown",
   "metadata": {},
   "source": [
    "Question c starts from here"
   ]
  },
  {
   "cell_type": "code",
   "execution_count": null,
   "metadata": {},
   "outputs": [],
   "source": [
    "#section a\n",
    "timings_a=[]\n",
    "for n in (50,100,200):\n",
    "    st_time=time.time()\n",
    "    print('\\n For iteration number = {}'.format(n))\n",
    "    pr1=pranking(n)\n",
    "    timings_a.append(time.time()-st_time)"
   ]
  },
  {
   "cell_type": "code",
   "execution_count": null,
   "metadata": {},
   "outputs": [],
   "source": [
    "timings_a"
   ]
  },
  {
   "cell_type": "code",
   "execution_count": null,
   "metadata": {},
   "outputs": [],
   "source": [
    "#section b\n",
    "def repeat_anb(a):\n",
    "    timings_b=[]\n",
    "    for n in (50,100,200):\n",
    "        print('\\n For iteration number = {}'.format(n))\n",
    "        st_time=time.time()\n",
    "        pr2=pranking2(n,a)\n",
    "        plotxy(pr2,'Page rank with a={} and number of iterations={}'.format(a,n))\n",
    "        timings_b.append(time.time() - st_time)\n",
    "    return timings_b"
   ]
  },
  {
   "cell_type": "code",
   "execution_count": null,
   "metadata": {},
   "outputs": [],
   "source": [
    "time02=repeat_anb(0.2)"
   ]
  },
  {
   "cell_type": "code",
   "execution_count": null,
   "metadata": {},
   "outputs": [],
   "source": [
    "time02"
   ]
  },
  {
   "cell_type": "code",
   "execution_count": null,
   "metadata": {
    "scrolled": true
   },
   "outputs": [],
   "source": [
    "time85=repeat_anb(0.85)"
   ]
  },
  {
   "cell_type": "code",
   "execution_count": null,
   "metadata": {},
   "outputs": [],
   "source": [
    "time85"
   ]
  },
  {
   "cell_type": "code",
   "execution_count": null,
   "metadata": {},
   "outputs": [],
   "source": [
    "#stop when p changes no further..can be implemented in rank by comparing p in each iteration\n",
    "#sorting in pranking has to go up to ranking, so that the sorted list has to be arrange to ensure stop\n",
    "#introduced timing to repeat"
   ]
  },
  {
   "cell_type": "markdown",
   "metadata": {},
   "source": [
    "section d starts here: How to detect convergence earlier"
   ]
  },
  {
   "cell_type": "code",
   "execution_count": null,
   "metadata": {},
   "outputs": [],
   "source": [
    "def rank_conv(pp,n):   #remember that p is a mutable object\n",
    "    global graph_in\n",
    "    global graph_out\n",
    "    p=copy.deepcopy(pp)\n",
    "    for i in range(n):\n",
    "        p_old = p\n",
    "        p = {}\n",
    "        for keyj in graph_in.keys():\n",
    "            summ=0\n",
    "            for keyi in graph_in[keyj]:\n",
    "                summ+=(1/len(graph_out[keyi])) * p_old[keyi]\n",
    "            p.update({keyj:summ})\n",
    "        old_rank=[k[1] for k in p_old.items()]\n",
    "        new_rank=[k[1] for k in p.items()]\n",
    "        err = sum([abs(x-y) for x,y in zip(old_rank,new_rank)]) *(1/len(old_rank))\n",
    "        #print(err)\n",
    "        if err <= 2e-2:\n",
    "            print('Converges at iteration number {}'.format(i))\n",
    "            return p\n",
    "    return p\n",
    "def pranking_conv(n):   \n",
    "    pp=init_rank()\n",
    "    page_rank = rank_conv(pp,n)  #running for n iterations\n",
    "    pr_sorted = sorted(page_rank.items(),key=lambda x:x[1],reverse=True)\n",
    "    print('Here are the top 20 ranked pages')\n",
    "    print('(Node id, Page rank)')\n",
    "    for v in pr_sorted[:20]:\n",
    "        print(v)\n",
    "    print('\\nHere are the bottom 20  ranked pages')\n",
    "    print('(Node id, Page rank)')\n",
    "    for v1 in pr_sorted[-20:]:\n",
    "        print(v1)#print here\n",
    "    return"
   ]
  },
  {
   "cell_type": "code",
   "execution_count": null,
   "metadata": {},
   "outputs": [],
   "source": [
    "def convergence_check(pp,n,a):\n",
    "    global graph_in\n",
    "    global graph_out\n",
    "    p=copy.deepcopy(pp)\n",
    "    arr=[]\n",
    "    for i in range(n):\n",
    "        p_old = p\n",
    "        p = {}\n",
    "        for keyj in graph_in.keys():\n",
    "            summ=0\n",
    "            for keyi in graph_in[keyj]:\n",
    "                summ+=(1/len(graph_out[keyi])) * p_old[keyi]\n",
    "            p.update({keyj:a*summ+(1-a)})\n",
    "        old_rank=[k[1] for k in p_old.items()]\n",
    "        new_rank=[k[1] for k in p.items()]\n",
    "        arr.append(sum([abs(x-y) for x,y in zip(old_rank,new_rank)]) * (1/len(new_rank)))\n",
    "    return arr"
   ]
  },
  {
   "cell_type": "code",
   "execution_count": null,
   "metadata": {},
   "outputs": [],
   "source": [
    "bb=convergence_check(init_rank(),50,1)\n",
    "bb_02=convergence_check(init_rank(),50,0.2)\n",
    "bb_85=convergence_check(init_rank(),50,0.85)\n",
    "plt.plot(list(range(1,51)),bb)\n",
    "plt.plot(list(range(1,51)),bb_02)\n",
    "plt.plot(list(range(1,51)),bb_85)\n",
    "plt.legend(['simple version','damping factor a=0.2','damping factor a=0.85'])\n",
    "plt.xlabel('iterations')\n",
    "plt.ylabel('mean absolute error')\n",
    "plt.title('Error vs Iteration')\n",
    "plt.show()"
   ]
  },
  {
   "cell_type": "code",
   "execution_count": null,
   "metadata": {},
   "outputs": [],
   "source": [
    "pranking_conv(200)"
   ]
  },
  {
   "cell_type": "code",
   "execution_count": null,
   "metadata": {},
   "outputs": [],
   "source": [
    "def rank2_conv(pp,n,a):   \n",
    "    global graph_in\n",
    "    global graph_out\n",
    "    p=copy.deepcopy(pp)\n",
    "    for i in range(n):\n",
    "        p_old = p\n",
    "        p = {}\n",
    "        for keyj in graph_in.keys():\n",
    "            summ=0\n",
    "            for keyi in graph_in[keyj]:\n",
    "                summ+=(1/len(graph_out[keyi])) * p_old[keyi]\n",
    "            p.update({keyj:a*summ+(1-a)})\n",
    "        old_rank=[k[1] for k in p_old.items()]\n",
    "        new_rank=[k[1] for k in p.items()]\n",
    "        if sum([abs(x-y) for x,y in zip(old_rank,new_rank)]) * (1/len(new_rank)) <= 1e-3:\n",
    "            print('Converges at iteration number {}'.format(i))\n",
    "            return p\n",
    "    return p\n",
    "\n",
    "def pranking2_conv(n,a):\n",
    "    pp = init_rank()\n",
    "    page_rank2=rank2_conv(pp,n,a)\n",
    "    pr_sorted2 = sorted(page_rank2.items(),key=lambda x:x[1],reverse=True)\n",
    "    print('Here are the top 20 ranked pages')\n",
    "    print('(Node id, Page rank)')\n",
    "    for v in pr_sorted2[:20]:\n",
    "        print(v)\n",
    "    print('\\nHere are the bottom 20  ranked pages')\n",
    "    print('(Node id, Page rank)')\n",
    "    for v1 in pr_sorted2[-20:]:\n",
    "        print(v1)#print here\n",
    "    return pr_sorted2"
   ]
  },
  {
   "cell_type": "code",
   "execution_count": null,
   "metadata": {
    "scrolled": true
   },
   "outputs": [],
   "source": [
    "aa=pranking2_conv(200,0.2)"
   ]
  },
  {
   "cell_type": "code",
   "execution_count": null,
   "metadata": {
    "scrolled": true
   },
   "outputs": [],
   "source": [
    "aa=pranking2_conv(200,0.85)"
   ]
  },
  {
   "cell_type": "code",
   "execution_count": null,
   "metadata": {},
   "outputs": [],
   "source": []
  }
 ],
 "metadata": {
  "kernelspec": {
   "display_name": "Python 3",
   "language": "python",
   "name": "python3"
  },
  "language_info": {
   "codemirror_mode": {
    "name": "ipython",
    "version": 3
   },
   "file_extension": ".py",
   "mimetype": "text/x-python",
   "name": "python",
   "nbconvert_exporter": "python",
   "pygments_lexer": "ipython3",
   "version": "3.7.4"
  }
 },
 "nbformat": 4,
 "nbformat_minor": 2
}
